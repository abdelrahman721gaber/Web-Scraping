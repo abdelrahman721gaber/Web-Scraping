{
 "cells": [
  {
   "cell_type": "code",
   "execution_count": 7,
   "id": "27e8e586-0353-4cf0-9443-0e8dd9348b9d",
   "metadata": {},
   "outputs": [],
   "source": [
    "import csv\n",
    "import requests\n",
    "from bs4 import BeautifulSoup\n",
    "from itertools import zip_longest\n",
    "import pandas as pd"
   ]
  },
  {
   "cell_type": "code",
   "execution_count": 2,
   "id": "f5dd4ef6-b592-4f5d-bb3b-a8c60f8b0f8f",
   "metadata": {},
   "outputs": [],
   "source": [
    "results = requests.get(\"http://books.toscrape.com/index.html\")\n",
    "source = results.content\n",
    "soup = BeautifulSoup(source, \"lxml\")"
   ]
  },
  {
   "cell_type": "code",
   "execution_count": 3,
   "id": "b77d6c4a-444b-4521-b02f-ba413f0632fe",
   "metadata": {},
   "outputs": [],
   "source": [
    "Book_title = []\n",
    "Price = []\n",
    "Availability = []\n",
    "Rating = []\n",
    "Image_URL = []\n",
    "Link = []"
   ]
  },
  {
   "cell_type": "code",
   "execution_count": 5,
   "id": "c8123c28-cbb0-4b2e-9595-5f676ea3775e",
   "metadata": {},
   "outputs": [
    {
     "name": "stdout",
     "output_type": "stream",
     "text": [
      "A Light in the Attic\n",
      "£51.77\n",
      "In stock\n",
      "Three\n",
      "http://books.toscrape.com/media/cache/2c/da/2cdad67c44b002e7ead0cc35693c0e8b.jpg\n",
      "http://books.toscrape.com/catalogue/a-light-in-the-attic_1000/index.html\n"
     ]
    }
   ],
   "source": [
    "for i in range(1, 51):\n",
    "    base_url = f\"http://books.toscrape.com/catalogue/page-{i}.html\"\n",
    "    response = requests.get(base_url)\n",
    "    soup = BeautifulSoup(response.content, \"html.parser\")\n",
    "    \n",
    "    books = soup.find_all('article', class_='product_pod')\n",
    "    \n",
    "    for book in books:\n",
    "        title = book.h3.a['title']\n",
    "        price = book.find('p', class_='price_color').text\n",
    "        availability = book.find('p', class_='instock availability').text.strip()\n",
    "        rating_class = book.find('p')['class'][1]\n",
    "        \n",
    "        link = book.h3.a['href']\n",
    "        full_link = site_root + \"catalogue/\" + link.replace('../', '')\n",
    "        \n",
    "        img_src = book.find('img')['src']\n",
    "        img_url = site_root + img_src.replace('../', '')\n",
    "        \n",
    "        Book_title.append(title)\n",
    "        Price.append(price)\n",
    "        Availability.append(availability)\n",
    "        Rating.append(rating_class)\n",
    "        Image_URL.append(img_url)\n",
    "        Link.append(full_link)\n",
    "\n",
    "# Test print\n",
    "print(Book_title[0])\n",
    "print(Price[0])\n",
    "print(Availability[0])\n",
    "print(Rating[0])\n",
    "print(Image_URL[0])\n",
    "print(Link[0])\n"
   ]
  },
  {
   "cell_type": "code",
   "execution_count": 6,
   "id": "b12f07ce-2554-418e-b5fd-e7f584a1f11e",
   "metadata": {},
   "outputs": [
    {
     "name": "stdout",
     "output_type": "stream",
     "text": [
      "CSV saved successfully!\n"
     ]
    }
   ],
   "source": [
    "df = pd.DataFrame({\n",
    "    \"Title\": Book_title,\n",
    "    \"Price\": Price,\n",
    "    \"Availability\": Availability,\n",
    "    \"Rating\": Rating,\n",
    "    \"Image URL\": Image_URL,\n",
    "    \"Book Link\": Link\n",
    "})\n",
    "\n",
    "output_path = r\"E:\\data science content\\self_study\\Web scraping\\book to scrape website\\books.csv\"\n",
    "df.to_csv(output_path, index=False, encoding='utf-8-sig')\n",
    "\n",
    "print(\"CSV saved successfully! \")\n"
   ]
  },
  {
   "cell_type": "code",
   "execution_count": null,
   "id": "c0eccbc5-b088-477b-839c-cb39207bfac9",
   "metadata": {},
   "outputs": [],
   "source": []
  }
 ],
 "metadata": {
  "kernelspec": {
   "display_name": "Python 3 (ipykernel)",
   "language": "python",
   "name": "python3"
  },
  "language_info": {
   "codemirror_mode": {
    "name": "ipython",
    "version": 3
   },
   "file_extension": ".py",
   "mimetype": "text/x-python",
   "name": "python",
   "nbconvert_exporter": "python",
   "pygments_lexer": "ipython3",
   "version": "3.12.7"
  }
 },
 "nbformat": 4,
 "nbformat_minor": 5
}
